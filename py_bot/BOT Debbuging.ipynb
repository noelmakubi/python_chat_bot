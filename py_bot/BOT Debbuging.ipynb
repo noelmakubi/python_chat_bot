{
 "cells": [
  {
   "cell_type": "code",
   "execution_count": 1,
   "id": "e9a5df05",
   "metadata": {},
   "outputs": [],
   "source": [
    "import json\n",
    "\n",
    "def load_json_file(file_path):\n",
    "    with open(file_path) as file:\n",
    "        data = json.load(file)\n",
    "    return data"
   ]
  },
  {
   "cell_type": "code",
   "execution_count": 2,
   "id": "1f89f5c0",
   "metadata": {},
   "outputs": [],
   "source": [
    "#taking answer of question asked from the dictionary & and put it in item variable\n",
    "def search_for_answer(question, data):\n",
    "    for item in data:\n",
    "        if question.lower() in item['question'].lower():\n",
    "            return item['answer']\n",
    "    return None"
   ]
  },
  {
   "cell_type": "code",
   "execution_count": 5,
   "id": "20653096",
   "metadata": {},
   "outputs": [],
   "source": [
    "def prompt_user():\n",
    "    while True:\n",
    "        question = input(\"What is your Question ? -> \")\n",
    "        answer = search_for_answer(question, data)\n",
    "        if answer is not None:\n",
    "            print(answer)\n",
    "        else:\n",
    "            new_answer = input(\"i do not know the answer!. Can you teach me the answer? ->\").lower()\n",
    "            new_question = question.lower()\n",
    "            data.append({'question':new_question, 'answer':new_answer})\n",
    "            with open('myIntent.json', \"w\") as file:\n",
    "                json.dump(data, file, ident = 4) \n"
   ]
  },
  {
   "cell_type": "code",
   "execution_count": null,
   "id": "16b36221",
   "metadata": {},
   "outputs": [],
   "source": [
    "if __name__ == '__main__':\n",
    "    data = load_json_file('myIntent.json')\n",
    "    prompt_user()\n"
   ]
  }
 ],
 "metadata": {
  "kernelspec": {
   "display_name": "Python 3 (ipykernel)",
   "language": "python",
   "name": "python3"
  },
  "language_info": {
   "codemirror_mode": {
    "name": "ipython",
    "version": 3
   },
   "file_extension": ".py",
   "mimetype": "text/x-python",
   "name": "python",
   "nbconvert_exporter": "python",
   "pygments_lexer": "ipython3",
   "version": "3.9.9"
  }
 },
 "nbformat": 4,
 "nbformat_minor": 5
}
